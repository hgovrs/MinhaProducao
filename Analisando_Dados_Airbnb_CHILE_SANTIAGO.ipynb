{
  "nbformat": 4,
  "nbformat_minor": 0,
  "metadata": {
    "colab": {
      "name": "Analisando Dados Airbnb CHILE SANTIAGO.ipynb",
      "provenance": [],
      "collapsed_sections": [],
      "include_colab_link": true
    },
    "kernelspec": {
      "name": "python3",
      "display_name": "Python 3"
    }
  },
  "cells": [
    {
      "cell_type": "markdown",
      "metadata": {
        "id": "view-in-github",
        "colab_type": "text"
      },
      "source": [
        "<a href=\"https://colab.research.google.com/github/hgovrs/Portfolio/blob/master/Analisando_Dados_Airbnb_CHILE_SANTIAGO.ipynb\" target=\"_parent\"><img src=\"https://colab.research.google.com/assets/colab-badge.svg\" alt=\"Open In Colab\"/></a>"
      ]
    },
    {
      "cell_type": "markdown",
      "metadata": {
        "id": "kLI0gJtzDGuQ",
        "colab_type": "text"
      },
      "source": [
        "\n",
        "# Análise dos Dados do Airbnb - Santiago - Chile\n",
        "\n",
        "O [Airbnb](https://www.airbnb.com.br/) já é considerado como sendo a **maior empresa hoteleira da atualidade**. Ah, o detalhe é que ele **não possui nenhum hotel**!\n",
        "\n",
        "Uma das iniciativas do Airbnb é disponibilizar dados do site, para algumas das principais cidades do mundo. Por meio do portal [Inside Airbnb](http://insideairbnb.com/get-the-data.html), é possível baixar uma grande quantidade de dados para desenvolver projetos e soluções de *Data Science*.\n",
        "\n",
        "<center><img alt=\"Analisando Airbnb\" width=\"10%\" src=\"https://www.area360.com.au/wp-content/uploads/2017/09/airbnb-logo.jpg\"></center>\n",
        "\n",
        "**Neste *notebook*, iremos analisar os dados referentes à cidade Santiago, Chile, e ver quais insights podem ser extraídos a partir de dados brutos.**"
      ]
    },
    {
      "cell_type": "markdown",
      "metadata": {
        "id": "0zxQHhIUDF_2",
        "colab_type": "text"
      },
      "source": [
        "## Obtenção dos Dados\n"
      ]
    },
    {
      "cell_type": "code",
      "metadata": {
        "id": "Vhp2wMPgJ6zX",
        "colab_type": "code",
        "outputId": "4c1235da-7b2e-468e-cc6e-e04af7cd7d14",
        "colab": {
          "base_uri": "https://localhost:8080/",
          "height": 51
        }
      },
      "source": [
        "# importar os pacotes necessarios\n",
        "import pandas as pd\n",
        "import matplotlib.pyplot as plt\n",
        "import seaborn as sns\n",
        "from IPython.display import display\n",
        "\n",
        "%matplotlib inline"
      ],
      "execution_count": 2,
      "outputs": [
        {
          "output_type": "stream",
          "text": [
            "/usr/local/lib/python3.6/dist-packages/statsmodels/tools/_testing.py:19: FutureWarning: pandas.util.testing is deprecated. Use the functions in the public API at pandas.testing instead.\n",
            "  import pandas.util.testing as tm\n"
          ],
          "name": "stderr"
        }
      ]
    },
    {
      "cell_type": "code",
      "metadata": {
        "id": "tUmoAT8DLQ5T",
        "colab_type": "code",
        "colab": {}
      },
      "source": [
        "# importar o arquivo listings.csv para um DataFrame\n",
        "df = pd.read_csv('http://data.insideairbnb.com/chile/rm/santiago/2019-03-15/visualisations/listings.csv')"
      ],
      "execution_count": 0,
      "outputs": []
    },
    {
      "cell_type": "markdown",
      "metadata": {
        "id": "qb5By2nIMS6m",
        "colab_type": "text"
      },
      "source": [
        "## Análise dos Dados\n"
      ]
    },
    {
      "cell_type": "markdown",
      "metadata": {
        "id": "RYgvuebKNg8-",
        "colab_type": "text"
      },
      "source": [
        "**Dicionário das variáveis**\n",
        "\n",
        "* id - número de id gerado para identificar o imóvel\n",
        "* name - nome da propriedade anunciada\n",
        "* host_id - número de id do proprietário (anfitrião) da propriedade\n",
        "* host_name - Nome do anfitrião\n",
        "* neighbourhood - esta coluna não contém nenhum valor válido\n",
        "* neighbourhood - Nome do bairro\n",
        "* latitude - coordenada da latitude da propriedade\n",
        "* longitude - coordenada da longitude da propriedade\n",
        "* room_type - informa o tipo de quarto que é oferecido\n",
        "* price - preço para alugar o imóvel\n",
        "* minimum_nights - quantidade mínima de noites para reservar \n",
        "* number_of_reviews - número de reviews que a propriedade possui\n",
        "* last_review - data do último review\n",
        "* reviews_per_month - quantidade de review por mês\n",
        "* calculated_host_listings_count - quantidade de imóveis do mesmo anfitrião\n",
        "* availability_365 - número de  dias de disponibilidadee dentro de 365 dias\n",
        "\n",
        "\n",
        "Antes de iniciar qualquer análise, vamos verificar a cara do nosso *dataset*, analisando as 5 primeiras entradas."
      ]
    },
    {
      "cell_type": "code",
      "metadata": {
        "id": "2iS_dae7YQtO",
        "colab_type": "code",
        "outputId": "93624885-5905-4d20-f35a-1c0e28d46f74",
        "colab": {
          "base_uri": "https://localhost:8080/",
          "height": 153
        }
      },
      "source": [
        "# mostrar as 5 primeiras entradas\n",
        "df.head()\n",
        "df['neighbourhood'].unique()"
      ],
      "execution_count": 4,
      "outputs": [
        {
          "output_type": "execute_result",
          "data": {
            "text/plain": [
              "array(['Santiago', 'Providencia', 'Las Condes', 'Ñuñoa', 'Recoleta',\n",
              "       'La Florida', 'Estación Central', 'Conchalí', 'Peñalolén',\n",
              "       'Huechuraba', 'La Reina', 'Lo Barnechea', 'Independencia',\n",
              "       'San Miguel', 'Vitacura', 'Maipú', 'Cerrillos', 'Renca',\n",
              "       'Quinta Normal', 'San Joaquín', 'Macul', 'Quilicura',\n",
              "       'Pedro Aguirre Cerda', 'El Bosque', 'Pudahuel', 'Cerro Navia',\n",
              "       'Lo Espejo', 'La Cisterna', 'Lo Prado', 'La Granja', 'La Pintana',\n",
              "       'San Ramón'], dtype=object)"
            ]
          },
          "metadata": {
            "tags": []
          },
          "execution_count": 4
        }
      ]
    },
    {
      "cell_type": "markdown",
      "metadata": {
        "id": "6-B_qtEaYEd-",
        "colab_type": "text"
      },
      "source": [
        "### **Q1. Quantos atributos (variáveis) e quantas entradas o nosso conjunto de dados possui? Quais os tipos das variáveis?**\n",
        "\n"
      ]
    },
    {
      "cell_type": "markdown",
      "metadata": {
        "colab_type": "text",
        "id": "rVAds6-lkqVO"
      },
      "source": [
        "#### Vamos prosseguir e identificar a quantidade de entradas que nosso conjunto de dados possui e ver os tipos de cada coluna.\n",
        "\n",
        "Este *dataset* que baixamos é a versão \"resumida\" do Airbnb. Na mesma página que baixamos o arquivo `listings.csv`. Há uma versão mais completa com 35847 entradas e 106 variáveis (`listings.csv.gz`)."
      ]
    },
    {
      "cell_type": "code",
      "metadata": {
        "id": "TFRK0tniLV-G",
        "colab_type": "code",
        "outputId": "9cf93f14-52b1-47bc-df8b-d9a4d01c5c12",
        "colab": {
          "base_uri": "https://localhost:8080/",
          "height": 170
        }
      },
      "source": [
        "# identificar o volume de dados do DataFrame\n",
        "print(f'Entradas: {df.shape[0]}')\n",
        "print(f'Variáveis: {df.shape[1]}\\n')\n",
        "\n",
        "# verificar as 5 primeiras entradas do dataset\n",
        "display(df.dtypes[0:5])\n"
      ],
      "execution_count": 5,
      "outputs": [
        {
          "output_type": "stream",
          "text": [
            "Entradas: 15790\n",
            "Variáveis: 16\n",
            "\n"
          ],
          "name": "stdout"
        },
        {
          "output_type": "display_data",
          "data": {
            "text/plain": [
              "id                       int64\n",
              "name                    object\n",
              "host_id                  int64\n",
              "host_name               object\n",
              "neighbourhood_group    float64\n",
              "dtype: object"
            ]
          },
          "metadata": {
            "tags": []
          }
        }
      ]
    },
    {
      "cell_type": "markdown",
      "metadata": {
        "id": "yz1urSUGW9iE",
        "colab_type": "text"
      },
      "source": [
        "### **Q2. Qual a porcentagem de valores ausentes no *dataset*?**"
      ]
    },
    {
      "cell_type": "code",
      "metadata": {
        "id": "plk2FjbCXOqP",
        "colab_type": "code",
        "outputId": "e9202e7a-edc6-4224-a075-ababb3e8aacb",
        "colab": {
          "base_uri": "https://localhost:8080/",
          "height": 306
        }
      },
      "source": [
        "# ordenar em ordem decrescente as variáveis por seus valores ausentes\n",
        "(df.isnull().sum() / df.shape[0]).sort_values(ascending=False)"
      ],
      "execution_count": 6,
      "outputs": [
        {
          "output_type": "execute_result",
          "data": {
            "text/plain": [
              "neighbourhood_group               1.000000\n",
              "reviews_per_month                 0.437619\n",
              "last_review                       0.437619\n",
              "name                              0.000887\n",
              "host_name                         0.000317\n",
              "availability_365                  0.000000\n",
              "calculated_host_listings_count    0.000000\n",
              "number_of_reviews                 0.000000\n",
              "minimum_nights                    0.000000\n",
              "price                             0.000000\n",
              "room_type                         0.000000\n",
              "longitude                         0.000000\n",
              "latitude                          0.000000\n",
              "neighbourhood                     0.000000\n",
              "host_id                           0.000000\n",
              "id                                0.000000\n",
              "dtype: float64"
            ]
          },
          "metadata": {
            "tags": []
          },
          "execution_count": 6
        }
      ]
    },
    {
      "cell_type": "markdown",
      "metadata": {
        "id": "iHXvvHIxaoNc",
        "colab_type": "text"
      },
      "source": [
        "### **Q3. Qual o tipo de distribuição das variáveis?** \n",
        "\n",
        "#### Para identificar a distribuição das variáveis, irei plotar o histograma."
      ]
    },
    {
      "cell_type": "code",
      "metadata": {
        "id": "q2wWSfeRbmBo",
        "colab_type": "code",
        "outputId": "35582fed-6141-4f83-c947-69abe266b571",
        "colab": {
          "base_uri": "https://localhost:8080/",
          "height": 620
        }
      },
      "source": [
        "# plotar o histograma das variáveis numéricas\n",
        "df.hist(bins=15, figsize=(20,10));"
      ],
      "execution_count": 7,
      "outputs": [
        {
          "output_type": "display_data",
          "data": {
            "image/png": "[encoded data removed]",
            "text/plain": [
              "<Figure size 1440x720 with 12 Axes>"
            ]
          },
          "metadata": {
            "tags": [],
            "needs_background": "light"
          }
        }
      ]
    },
    {
      "cell_type": "markdown",
      "metadata": {
        "id": "-ZcpsG8dwSEK",
        "colab_type": "text"
      },
      "source": [
        "## Há outliers presentes?\n",
        "\n",
        "#### Pela distribuição do histograma, é possível verificar indícios da presença de outliers. Olhe por exemplo as variáveis price, minimum_nights e calculated_host_listings_count.\n",
        "\n",
        "Os valores não seguem uma distruição, e distorcem toda a representação gráfica. Para confirmar, há duas maneiras rápidas que auxiliam a detecção de outliers. São elas:\n",
        "\n",
        "* Resumo estatístico por meio do método describe()\n",
        "* Plotar boxplots para a variável.\n"
      ]
    },
    {
      "cell_type": "markdown",
      "metadata": {
        "id": "gQgtdfMdxVsb",
        "colab_type": "text"
      },
      "source": [
        "### Boxplot para minimum_nights"
      ]
    },
    {
      "cell_type": "code",
      "metadata": {
        "id": "T3wmKd-rprwf",
        "colab_type": "code",
        "outputId": "01d0b873-ebae-48d2-a4d3-bb6d67eb996e",
        "colab": {
          "base_uri": "https://localhost:8080/",
          "height": 262
        }
      },
      "source": [
        "# minimum_nights\n",
        "df.minimum_nights.plot(kind='box', vert=False, figsize=(15,3))\n",
        "plt.show()\n",
        "\n",
        "#ver quanditdadee de valores acima de 30 dias para minimum_nights\n",
        "print('Minimum_nights: valores acima de 30:')\n",
        "print(f' entradas: {len(df[df.minimum_nights > 30])}')\n",
        "print(f' {(len(df[df.minimum_nights > 30]) / df.shape[0])*100:.4f}%')"
      ],
      "execution_count": 8,
      "outputs": [
        {
          "output_type": "display_data",
          "data": {
            "image/png": "[encoded data removed]",
            "text/plain": [
              "<Figure size 1080x216 with 1 Axes>"
            ]
          },
          "metadata": {
            "tags": [],
            "needs_background": "light"
          }
        },
        {
          "output_type": "stream",
          "text": [
            "Minimum_nights: valores acima de 30:\n",
            " entradas: 226\n",
            " 1.4313%\n"
          ],
          "name": "stdout"
        }
      ]
    },
    {
      "cell_type": "code",
      "metadata": {
        "id": "7RHdipoQ5JaU",
        "colab_type": "code",
        "outputId": "a9d48f37-5054-44ca-81cc-d62700ff2ae7",
        "cellView": "code",
        "colab": {
          "base_uri": "https://localhost:8080/",
          "height": 297
        }
      },
      "source": [
        "\n",
        "#resumo estatistico da variável price e minimum_nights\n",
        "df[['price', 'minimum_nights']].describe()"
      ],
      "execution_count": 9,
      "outputs": [
        {
          "output_type": "execute_result",
          "data": {
            "text/html": [
              "<div>\n",
              "<style scoped>\n",
              "    .dataframe tbody tr th:only-of-type {\n",
              "        vertical-align: middle;\n",
              "    }\n",
              "\n",
              "    .dataframe tbody tr th {\n",
              "        vertical-align: top;\n",
              "    }\n",
              "\n",
              "    .dataframe thead th {\n",
              "        text-align: right;\n",
              "    }\n",
              "</style>\n",
              "<table border=\"1\" class=\"dataframe\">\n",
              "  <thead>\n",
              "    <tr style=\"text-align: right;\">\n",
              "      <th></th>\n",
              "      <th>price</th>\n",
              "      <th>minimum_nights</th>\n",
              "    </tr>\n",
              "  </thead>\n",
              "  <tbody>\n",
              "    <tr>\n",
              "      <th>count</th>\n",
              "      <td>1.579000e+04</td>\n",
              "      <td>15790.000000</td>\n",
              "    </tr>\n",
              "    <tr>\n",
              "      <th>mean</th>\n",
              "      <td>7.127307e+04</td>\n",
              "      <td>5.084864</td>\n",
              "    </tr>\n",
              "    <tr>\n",
              "      <th>std</th>\n",
              "      <td>1.574417e+06</td>\n",
              "      <td>29.440156</td>\n",
              "    </tr>\n",
              "    <tr>\n",
              "      <th>min</th>\n",
              "      <td>0.000000e+00</td>\n",
              "      <td>1.000000</td>\n",
              "    </tr>\n",
              "    <tr>\n",
              "      <th>25%</th>\n",
              "      <td>1.876700e+04</td>\n",
              "      <td>1.000000</td>\n",
              "    </tr>\n",
              "    <tr>\n",
              "      <th>50%</th>\n",
              "      <td>3.016100e+04</td>\n",
              "      <td>2.000000</td>\n",
              "    </tr>\n",
              "    <tr>\n",
              "      <th>75%</th>\n",
              "      <td>4.021500e+04</td>\n",
              "      <td>3.000000</td>\n",
              "    </tr>\n",
              "    <tr>\n",
              "      <th>max</th>\n",
              "      <td>1.838887e+08</td>\n",
              "      <td>1100.000000</td>\n",
              "    </tr>\n",
              "  </tbody>\n",
              "</table>\n",
              "</div>"
            ],
            "text/plain": [
              "              price  minimum_nights\n",
              "count  1.579000e+04    15790.000000\n",
              "mean   7.127307e+04        5.084864\n",
              "std    1.574417e+06       29.440156\n",
              "min    0.000000e+00        1.000000\n",
              "25%    1.876700e+04        1.000000\n",
              "50%    3.016100e+04        2.000000\n",
              "75%    4.021500e+04        3.000000\n",
              "max    1.838887e+08     1100.000000"
            ]
          },
          "metadata": {
            "tags": []
          },
          "execution_count": 9
        }
      ]
    },
    {
      "cell_type": "markdown",
      "metadata": {
        "id": "ghlQ_rZDA99X",
        "colab_type": "text"
      },
      "source": [
        "Percebe-se que 75% dos imóveis tem o valor de aluguel abaixo de 7.000 pesos chilenos e 75% de minimo do noites é 5 dias."
      ]
    },
    {
      "cell_type": "markdown",
      "metadata": {
        "id": "T-NWwg1Hxbje",
        "colab_type": "text"
      },
      "source": [
        "### Boxplot para price"
      ]
    },
    {
      "cell_type": "code",
      "metadata": {
        "id": "NMd1MDodxljF",
        "colab_type": "code",
        "outputId": "9062319a-b00d-4ecc-f8d7-5c2b9230493b",
        "colab": {
          "base_uri": "https://localhost:8080/",
          "height": 275
        }
      },
      "source": [
        "#price\n",
        "df.price.plot(kind='box', vert=False, figsize=(15, 3))\n",
        "plt.show()\n",
        "\n",
        "#ver quantidade de valores acima de 200000 para price\n",
        "print('price: valores acima de 200000 mil pesos')\n",
        "print(f'entradas {len(df[df.price > 200000])}')\n",
        "print(f'{(len(df[df.price > 200000]) / df.shape[0])*100:.4f}%')\n"
      ],
      "execution_count": 10,
      "outputs": [
        {
          "output_type": "display_data",
          "data": {
            "image/png": "[encoded data removed]",
            "text/plain": [
              "<Figure size 1080x216 with 1 Axes>"
            ]
          },
          "metadata": {
            "tags": [],
            "needs_background": "light"
          }
        },
        {
          "output_type": "stream",
          "text": [
            "price: valores acima de 200000 mil pesos\n",
            "entradas 194\n",
            "1.2286%\n"
          ],
          "name": "stdout"
        }
      ]
    },
    {
      "cell_type": "markdown",
      "metadata": {
        "id": "4dz1MPWs0k1c",
        "colab_type": "text"
      },
      "source": [
        "### Histogramas sem outliers\n",
        "#### Já que identificamos outliers nas variáveis price e minimum_nights, vamos agora limpar o DataFrame delas e plotar novamente o histograma."
      ]
    },
    {
      "cell_type": "code",
      "metadata": {
        "id": "4B2-uxEg0qtQ",
        "colab_type": "code",
        "outputId": "e56613b1-097e-4d42-82bf-e38ceb1c3f7a",
        "colab": {
          "base_uri": "https://localhost:8080/",
          "height": 607
        }
      },
      "source": [
        "# remover os *outliers* em um novo DataFrame\n",
        "df_clean = df.copy()\n",
        "df_clean.drop(df_clean[df_clean.price > 200000].index, axis =0, inplace = True)\n",
        "df_clean.drop(df_clean[df_clean.minimum_nights > 30].index, axis =0, inplace = True)\n",
        "\n",
        "# remover 'neighbourhood_groupm pois está vazio\n",
        "df_clean.drop('neighbourhood_group', axis = 1, inplace=True)\n",
        "\n",
        "#plotar o histograma para as variáveis numéricas\n",
        "df_clean.hist(bins=15, figsize=(20,10));"
      ],
      "execution_count": 11,
      "outputs": [
        {
          "output_type": "display_data",
          "data": {
            "image/png": "[encoded data removed]",
            "text/plain": [
              "<Figure size 1440x720 with 12 Axes>"
            ]
          },
          "metadata": {
            "tags": [],
            "needs_background": "light"
          }
        }
      ]
    },
    {
      "cell_type": "markdown",
      "metadata": {
        "id": "atZCBfCDCk9z",
        "colab_type": "text"
      },
      "source": [
        "#### Agora temos uma base melhorada com uma limpeza profunda de outliers e vamos trabalhor com esse novo histograma."
      ]
    },
    {
      "cell_type": "code",
      "metadata": {
        "id": "5BVLmmc1Apia",
        "colab_type": "code",
        "outputId": "437a063c-d421-4a13-d455-fb4507b3f84e",
        "colab": {
          "base_uri": "https://localhost:8080/",
          "height": 297
        }
      },
      "source": [
        "#novo resumo estatistico da variável price e minimum_nights\n",
        "df_clean[['price', 'minimum_nights']].describe()"
      ],
      "execution_count": 12,
      "outputs": [
        {
          "output_type": "execute_result",
          "data": {
            "text/html": [
              "<div>\n",
              "<style scoped>\n",
              "    .dataframe tbody tr th:only-of-type {\n",
              "        vertical-align: middle;\n",
              "    }\n",
              "\n",
              "    .dataframe tbody tr th {\n",
              "        vertical-align: top;\n",
              "    }\n",
              "\n",
              "    .dataframe thead th {\n",
              "        text-align: right;\n",
              "    }\n",
              "</style>\n",
              "<table border=\"1\" class=\"dataframe\">\n",
              "  <thead>\n",
              "    <tr style=\"text-align: right;\">\n",
              "      <th></th>\n",
              "      <th>price</th>\n",
              "      <th>minimum_nights</th>\n",
              "    </tr>\n",
              "  </thead>\n",
              "  <tbody>\n",
              "    <tr>\n",
              "      <th>count</th>\n",
              "      <td>15383.000000</td>\n",
              "      <td>15383.000000</td>\n",
              "    </tr>\n",
              "    <tr>\n",
              "      <th>mean</th>\n",
              "      <td>33796.428590</td>\n",
              "      <td>2.716700</td>\n",
              "    </tr>\n",
              "    <tr>\n",
              "      <th>std</th>\n",
              "      <td>23620.606942</td>\n",
              "      <td>4.119015</td>\n",
              "    </tr>\n",
              "    <tr>\n",
              "      <th>min</th>\n",
              "      <td>0.000000</td>\n",
              "      <td>1.000000</td>\n",
              "    </tr>\n",
              "    <tr>\n",
              "      <th>25%</th>\n",
              "      <td>18767.000000</td>\n",
              "      <td>1.000000</td>\n",
              "    </tr>\n",
              "    <tr>\n",
              "      <th>50%</th>\n",
              "      <td>30161.000000</td>\n",
              "      <td>2.000000</td>\n",
              "    </tr>\n",
              "    <tr>\n",
              "      <th>75%</th>\n",
              "      <td>40215.000000</td>\n",
              "      <td>3.000000</td>\n",
              "    </tr>\n",
              "    <tr>\n",
              "      <th>max</th>\n",
              "      <td>199734.000000</td>\n",
              "      <td>30.000000</td>\n",
              "    </tr>\n",
              "  </tbody>\n",
              "</table>\n",
              "</div>"
            ],
            "text/plain": [
              "               price  minimum_nights\n",
              "count   15383.000000    15383.000000\n",
              "mean    33796.428590        2.716700\n",
              "std     23620.606942        4.119015\n",
              "min         0.000000        1.000000\n",
              "25%     18767.000000        1.000000\n",
              "50%     30161.000000        2.000000\n",
              "75%     40215.000000        3.000000\n",
              "max    199734.000000       30.000000"
            ]
          },
          "metadata": {
            "tags": []
          },
          "execution_count": 12
        }
      ]
    },
    {
      "cell_type": "markdown",
      "metadata": {
        "id": "RGekoP72V9e4",
        "colab_type": "text"
      },
      "source": [
        "\n",
        "#### Conforme o resume estatístico acima, pode se dizer que:\n",
        "\n",
        "####Média de preço é : **32.000 mil pesos chilenos**, equivalente a **188 reais**.\n",
        "####Média de dias alugados é : 2 dias. \n",
        "\n"
      ]
    },
    {
      "cell_type": "markdown",
      "metadata": {
        "id": "IXn2oIo5qx-w",
        "colab_type": "text"
      },
      "source": [
        "### **Q4. Qual a correlação existente entre as variáveis**\n",
        "\n",
        "---\n",
        "Correlação significa que existe uma relação entre duas coisas. No nosso contexto, estamos buscando relação ou semelhança entre duas variáveis.\n",
        "\n",
        "Essa relação pode ser medida, e é função do coeficiente de correlação estabelecer qual a intensidade dela. Para identificar as correlações existentes entre as variáveis de interesse, vou:\n",
        "\n",
        "Criar uma matriz de correlação\n",
        "Gerar um heatmap a partir dessa matriz, usando a biblioteca seaborn\n",
        "\n"
      ]
    },
    {
      "cell_type": "code",
      "metadata": {
        "id": "x2ayzBajqxyd",
        "colab_type": "code",
        "outputId": "1d609e18-33e2-4192-c9df-3632ea826b16",
        "colab": {
          "base_uri": "https://localhost:8080/",
          "height": 235
        }
      },
      "source": [
        "# criar uma matriz de correlação\n",
        "corr = df_clean[['price', 'minimum_nights', 'number_of_reviews', 'reviews_per_month',\n",
        "    'calculated_host_listings_count', 'availability_365']].corr()\n",
        "# mostrar a matriz de correlação\n",
        "display(corr)"
      ],
      "execution_count": 13,
      "outputs": [
        {
          "output_type": "display_data",
          "data": {
            "text/html": [
              "<div>\n",
              "<style scoped>\n",
              "    .dataframe tbody tr th:only-of-type {\n",
              "        vertical-align: middle;\n",
              "    }\n",
              "\n",
              "    .dataframe tbody tr th {\n",
              "        vertical-align: top;\n",
              "    }\n",
              "\n",
              "    .dataframe thead th {\n",
              "        text-align: right;\n",
              "    }\n",
              "</style>\n",
              "<table border=\"1\" class=\"dataframe\">\n",
              "  <thead>\n",
              "    <tr style=\"text-align: right;\">\n",
              "      <th></th>\n",
              "      <th>price</th>\n",
              "      <th>minimum_nights</th>\n",
              "      <th>number_of_reviews</th>\n",
              "      <th>reviews_per_month</th>\n",
              "      <th>calculated_host_listings_count</th>\n",
              "      <th>availability_365</th>\n",
              "    </tr>\n",
              "  </thead>\n",
              "  <tbody>\n",
              "    <tr>\n",
              "      <th>price</th>\n",
              "      <td>1.000000</td>\n",
              "      <td>-0.009201</td>\n",
              "      <td>-0.010814</td>\n",
              "      <td>-0.040054</td>\n",
              "      <td>0.015881</td>\n",
              "      <td>0.066639</td>\n",
              "    </tr>\n",
              "    <tr>\n",
              "      <th>minimum_nights</th>\n",
              "      <td>-0.009201</td>\n",
              "      <td>1.000000</td>\n",
              "      <td>-0.035326</td>\n",
              "      <td>-0.102299</td>\n",
              "      <td>-0.043771</td>\n",
              "      <td>-0.020714</td>\n",
              "    </tr>\n",
              "    <tr>\n",
              "      <th>number_of_reviews</th>\n",
              "      <td>-0.010814</td>\n",
              "      <td>-0.035326</td>\n",
              "      <td>1.000000</td>\n",
              "      <td>0.617320</td>\n",
              "      <td>-0.014739</td>\n",
              "      <td>0.021268</td>\n",
              "    </tr>\n",
              "    <tr>\n",
              "      <th>reviews_per_month</th>\n",
              "      <td>-0.040054</td>\n",
              "      <td>-0.102299</td>\n",
              "      <td>0.617320</td>\n",
              "      <td>1.000000</td>\n",
              "      <td>-0.004017</td>\n",
              "      <td>0.000054</td>\n",
              "    </tr>\n",
              "    <tr>\n",
              "      <th>calculated_host_listings_count</th>\n",
              "      <td>0.015881</td>\n",
              "      <td>-0.043771</td>\n",
              "      <td>-0.014739</td>\n",
              "      <td>-0.004017</td>\n",
              "      <td>1.000000</td>\n",
              "      <td>0.176184</td>\n",
              "    </tr>\n",
              "    <tr>\n",
              "      <th>availability_365</th>\n",
              "      <td>0.066639</td>\n",
              "      <td>-0.020714</td>\n",
              "      <td>0.021268</td>\n",
              "      <td>0.000054</td>\n",
              "      <td>0.176184</td>\n",
              "      <td>1.000000</td>\n",
              "    </tr>\n",
              "  </tbody>\n",
              "</table>\n",
              "</div>"
            ],
            "text/plain": [
              "                                   price  ...  availability_365\n",
              "price                           1.000000  ...          0.066639\n",
              "minimum_nights                 -0.009201  ...         -0.020714\n",
              "number_of_reviews              -0.010814  ...          0.021268\n",
              "reviews_per_month              -0.040054  ...          0.000054\n",
              "calculated_host_listings_count  0.015881  ...          0.176184\n",
              "availability_365                0.066639  ...          1.000000\n",
              "\n",
              "[6 rows x 6 columns]"
            ]
          },
          "metadata": {
            "tags": []
          }
        }
      ]
    },
    {
      "cell_type": "code",
      "metadata": {
        "id": "91UujDr6ueqE",
        "colab_type": "code",
        "outputId": "2b59b026-4a0d-4dcd-a7b5-56dd52ffdea9",
        "colab": {
          "base_uri": "https://localhost:8080/",
          "height": 411
        }
      },
      "source": [
        "# plotar um heatmap a partir das correlações\n",
        "sns.heatmap(corr, cmap='RdBu', fmt='.2f', square=True, linecolor = 'white', annot= True);"
      ],
      "execution_count": 14,
      "outputs": [
        {
          "output_type": "display_data",
          "data": {
            "image/png": "[encoded data removed]",
            "text/plain": [
              "<Figure size 432x288 with 2 Axes>"
            ]
          },
          "metadata": {
            "tags": [],
            "needs_background": "light"
          }
        }
      ]
    },
    {
      "cell_type": "markdown",
      "metadata": {
        "id": "7b6RMWpuHKN-",
        "colab_type": "text"
      },
      "source": [
        "### **Q5. Qual o tipo de imóvel mais alugado no Airbnb?**"
      ]
    },
    {
      "cell_type": "markdown",
      "metadata": {
        "id": "QBZ_6yADX54_",
        "colab_type": "text"
      },
      "source": [
        "A coluna da variável room_type indica o tipo de locação que está anunciada no Airbnb. Se você já alugou no site, sabe que existem opções de apartamentos/casas inteiras, apenas o aluguel de um quarto ou mesmo dividir o quarto com outras pessoas.\n",
        "\n",
        "Vamos contar a quantidade de ocorrências de cada tipo de aluguel, usando o método value_counts().italicized text"
      ]
    },
    {
      "cell_type": "code",
      "metadata": {
        "id": "ueLPNWvPHgfB",
        "colab_type": "code",
        "outputId": "6221ea31-b2fa-4d28-d540-d98273116bb9",
        "colab": {
          "base_uri": "https://localhost:8080/",
          "height": 85
        }
      },
      "source": [
        "# mostrar a quantidade de cada tipo de imóvel disponível\n",
        "df_clean.room_type.value_counts()"
      ],
      "execution_count": 15,
      "outputs": [
        {
          "output_type": "execute_result",
          "data": {
            "text/plain": [
              "Entire home/apt    8584\n",
              "Private room       6433\n",
              "Shared room         366\n",
              "Name: room_type, dtype: int64"
            ]
          },
          "metadata": {
            "tags": []
          },
          "execution_count": 15
        }
      ]
    },
    {
      "cell_type": "code",
      "metadata": {
        "id": "EvwoO-XAHhIm",
        "colab_type": "code",
        "outputId": "857ad2b7-8bf8-4878-d778-5cca1e847c8c",
        "colab": {
          "base_uri": "https://localhost:8080/",
          "height": 85
        }
      },
      "source": [
        "# mostrar a porcentagem de cada tipo de imóvel disponível\n",
        "df_clean.room_type.value_counts() / df_clean.shape[0]"
      ],
      "execution_count": 16,
      "outputs": [
        {
          "output_type": "execute_result",
          "data": {
            "text/plain": [
              "Entire home/apt    0.558019\n",
              "Private room       0.418189\n",
              "Shared room        0.023792\n",
              "Name: room_type, dtype: float64"
            ]
          },
          "metadata": {
            "tags": []
          },
          "execution_count": 16
        }
      ]
    },
    {
      "cell_type": "markdown",
      "metadata": {
        "id": "MFa5NbnLJMcd",
        "colab_type": "text"
      },
      "source": [
        "### **Q6. Qual a localidade mais cara do dataset?**\n",
        "\n"
      ]
    },
    {
      "cell_type": "markdown",
      "metadata": {
        "id": "Q7qL7osrYlR7",
        "colab_type": "text"
      },
      "source": [
        "Uma maneira de se verificar uma variável em função da outra é usando groupby(). No caso, queremos comparar os bairros (neighbourhoods) a partir do preço de locação."
      ]
    },
    {
      "cell_type": "code",
      "metadata": {
        "id": "MD_xa143JZpi",
        "colab_type": "code",
        "outputId": "783a9fc5-5225-46fb-f2e7-2a6916da2e0b",
        "colab": {
          "base_uri": "https://localhost:8080/",
          "height": 221
        }
      },
      "source": [
        "# ver preços por bairros, na média\n",
        "df_clean.groupby(['neighbourhood']).price.mean().sort_values(ascending=False)[:10]"
      ],
      "execution_count": 17,
      "outputs": [
        {
          "output_type": "execute_result",
          "data": {
            "text/plain": [
              "neighbourhood\n",
              "Lo Barnechea    63683.070922\n",
              "Cerro Navia     59249.800000\n",
              "Lo Espejo       50555.857143\n",
              "Quilicura       49134.346154\n",
              "Vitacura        47704.982234\n",
              "Las Condes      44213.663283\n",
              "Conchalí        36997.533333\n",
              "Maipú           36764.135484\n",
              "Providencia     35298.633992\n",
              "Renca           34670.090909\n",
              "Name: price, dtype: float64"
            ]
          },
          "metadata": {
            "tags": []
          },
          "execution_count": 17
        }
      ]
    },
    {
      "cell_type": "code",
      "metadata": {
        "id": "bE0Vt_b6aC2n",
        "colab_type": "code",
        "outputId": "d0ede418-b857-4e0b-978b-5d5c0da9ea39",
        "colab": {
          "base_uri": "https://localhost:8080/",
          "height": 187
        }
      },
      "source": [
        "# ver quantidade de imóveis por bairro \n",
        "print(df[df.neighbourhood =='Lo Barnechea'].shape )\n",
        "print(df[df.neighbourhood =='Cerro Navia'].shape)\n",
        "print(df[df.neighbourhood =='Lo Espejo'].shape)\n",
        "print(df[df.neighbourhood =='Quilicura'].shape)\n",
        "print(df[df.neighbourhood =='Vitacura'].shape)\n",
        "print(df[df.neighbourhood =='Las Condes'].shape)\n",
        "print(df[df.neighbourhood =='Conchalí'].shape)\n",
        "print(df[df.neighbourhood =='Maipú'].shape)\n",
        "print(df[df.neighbourhood =='Providencia'].shape)\n",
        "print(df[df.neighbourhood =='Renca'].shape)\n"
      ],
      "execution_count": 18,
      "outputs": [
        {
          "output_type": "stream",
          "text": [
            "(165, 16)\n",
            "(5, 16)\n",
            "(7, 16)\n",
            "(52, 16)\n",
            "(426, 16)\n",
            "(2448, 16)\n",
            "(16, 16)\n",
            "(162, 16)\n",
            "(3866, 16)\n",
            "(12, 16)\n"
          ],
          "name": "stdout"
        }
      ]
    },
    {
      "cell_type": "code",
      "metadata": {
        "id": "fLv7ErikjnVM",
        "colab_type": "code",
        "colab": {}
      },
      "source": [
        ""
      ],
      "execution_count": 0,
      "outputs": []
    },
    {
      "cell_type": "markdown",
      "metadata": {
        "id": "hEegOJFDpZNT",
        "colab_type": "text"
      },
      "source": [
        "Verificamos que os bairros, Cerro Navia e Lo Espejo tem pouquíssimos imóveis disponíveis, sendo assim fica difícil ter uma média adequada quando comparada com os outros bairros. Nesse caso segue a lista que mais faz sentido:\n"
      ]
    },
    {
      "cell_type": "code",
      "metadata": {
        "id": "Fx9xsAnolBdm",
        "colab_type": "code",
        "outputId": "82c44518-3f2a-41c1-b0a5-36236b207e9f",
        "colab": {
          "base_uri": "https://localhost:8080/",
          "height": 428
        }
      },
      "source": [
        "#ver as eentradas do bairro Cerro Navia\n",
        "df[df.neighbourhood =='Cerro Navia']"
      ],
      "execution_count": 19,
      "outputs": [
        {
          "output_type": "execute_result",
          "data": {
            "text/html": [
              "<div>\n",
              "<style scoped>\n",
              "    .dataframe tbody tr th:only-of-type {\n",
              "        vertical-align: middle;\n",
              "    }\n",
              "\n",
              "    .dataframe tbody tr th {\n",
              "        vertical-align: top;\n",
              "    }\n",
              "\n",
              "    .dataframe thead th {\n",
              "        text-align: right;\n",
              "    }\n",
              "</style>\n",
              "<table border=\"1\" class=\"dataframe\">\n",
              "  <thead>\n",
              "    <tr style=\"text-align: right;\">\n",
              "      <th></th>\n",
              "      <th>id</th>\n",
              "      <th>name</th>\n",
              "      <th>host_id</th>\n",
              "      <th>host_name</th>\n",
              "      <th>neighbourhood_group</th>\n",
              "      <th>neighbourhood</th>\n",
              "      <th>latitude</th>\n",
              "      <th>longitude</th>\n",
              "      <th>room_type</th>\n",
              "      <th>price</th>\n",
              "      <th>minimum_nights</th>\n",
              "      <th>number_of_reviews</th>\n",
              "      <th>last_review</th>\n",
              "      <th>reviews_per_month</th>\n",
              "      <th>calculated_host_listings_count</th>\n",
              "      <th>availability_365</th>\n",
              "    </tr>\n",
              "  </thead>\n",
              "  <tbody>\n",
              "    <tr>\n",
              "      <th>1422</th>\n",
              "      <td>6370473</td>\n",
              "      <td>Habitación con Baño</td>\n",
              "      <td>33196191</td>\n",
              "      <td>Angel</td>\n",
              "      <td>NaN</td>\n",
              "      <td>Cerro Navia</td>\n",
              "      <td>-33.41798</td>\n",
              "      <td>-70.76462</td>\n",
              "      <td>Private room</td>\n",
              "      <td>30831</td>\n",
              "      <td>1</td>\n",
              "      <td>105</td>\n",
              "      <td>2019-02-23</td>\n",
              "      <td>2.46</td>\n",
              "      <td>2</td>\n",
              "      <td>358</td>\n",
              "    </tr>\n",
              "    <tr>\n",
              "      <th>3497</th>\n",
              "      <td>12521576</td>\n",
              "      <td>Pieza pequeña pero acogedora</td>\n",
              "      <td>67728499</td>\n",
              "      <td>Jose</td>\n",
              "      <td>NaN</td>\n",
              "      <td>Cerro Navia</td>\n",
              "      <td>-33.41614</td>\n",
              "      <td>-70.71760</td>\n",
              "      <td>Private room</td>\n",
              "      <td>8713</td>\n",
              "      <td>1</td>\n",
              "      <td>0</td>\n",
              "      <td>NaN</td>\n",
              "      <td>NaN</td>\n",
              "      <td>1</td>\n",
              "      <td>339</td>\n",
              "    </tr>\n",
              "    <tr>\n",
              "      <th>10318</th>\n",
              "      <td>24986138</td>\n",
              "      <td>Habitación matrimonial ideal para descansar.</td>\n",
              "      <td>33196191</td>\n",
              "      <td>Angel</td>\n",
              "      <td>NaN</td>\n",
              "      <td>Cerro Navia</td>\n",
              "      <td>-33.41758</td>\n",
              "      <td>-70.76627</td>\n",
              "      <td>Private room</td>\n",
              "      <td>30831</td>\n",
              "      <td>1</td>\n",
              "      <td>4</td>\n",
              "      <td>2019-01-04</td>\n",
              "      <td>0.42</td>\n",
              "      <td>2</td>\n",
              "      <td>364</td>\n",
              "    </tr>\n",
              "    <tr>\n",
              "      <th>13513</th>\n",
              "      <td>30689537</td>\n",
              "      <td>Preciosa y cómoda casa en Maintencillo</td>\n",
              "      <td>921444</td>\n",
              "      <td>Paulina</td>\n",
              "      <td>NaN</td>\n",
              "      <td>Cerro Navia</td>\n",
              "      <td>-33.43343</td>\n",
              "      <td>-70.73477</td>\n",
              "      <td>Entire home/apt</td>\n",
              "      <td>150136</td>\n",
              "      <td>7</td>\n",
              "      <td>0</td>\n",
              "      <td>NaN</td>\n",
              "      <td>NaN</td>\n",
              "      <td>1</td>\n",
              "      <td>15</td>\n",
              "    </tr>\n",
              "    <tr>\n",
              "      <th>15768</th>\n",
              "      <td>33045249</td>\n",
              "      <td>PRECIOSA PARA DISFRUTAR</td>\n",
              "      <td>248644183</td>\n",
              "      <td>Diego Esteban</td>\n",
              "      <td>NaN</td>\n",
              "      <td>Cerro Navia</td>\n",
              "      <td>-33.42583</td>\n",
              "      <td>-70.72063</td>\n",
              "      <td>Entire home/apt</td>\n",
              "      <td>75738</td>\n",
              "      <td>1</td>\n",
              "      <td>0</td>\n",
              "      <td>NaN</td>\n",
              "      <td>NaN</td>\n",
              "      <td>1</td>\n",
              "      <td>174</td>\n",
              "    </tr>\n",
              "  </tbody>\n",
              "</table>\n",
              "</div>"
            ],
            "text/plain": [
              "             id  ... availability_365\n",
              "1422    6370473  ...              358\n",
              "3497   12521576  ...              339\n",
              "10318  24986138  ...              364\n",
              "13513  30689537  ...               15\n",
              "15768  33045249  ...              174\n",
              "\n",
              "[5 rows x 16 columns]"
            ]
          },
          "metadata": {
            "tags": []
          },
          "execution_count": 19
        }
      ]
    },
    {
      "cell_type": "markdown",
      "metadata": {
        "id": "rtnSMpFxp8Xp",
        "colab_type": "text"
      },
      "source": [
        "2. Lo Espejo, apenas 7 imóveis. Aqui temos valores diferentes porém não muito \n",
        "discrepante, então podemos tirar a média normalmente.\n"
      ]
    },
    {
      "cell_type": "code",
      "metadata": {
        "id": "wrwWiNoLl7-W",
        "colab_type": "code",
        "outputId": "bc2ef139-2511-4fc6-a8b6-b8f0c91b56f8",
        "colab": {
          "base_uri": "https://localhost:8080/",
          "height": 524
        }
      },
      "source": [
        "#ver as entradas do bairro Lo Espejo\n",
        "df[df.neighbourhood =='Lo Espejo']"
      ],
      "execution_count": 20,
      "outputs": [
        {
          "output_type": "execute_result",
          "data": {
            "text/html": [
              "<div>\n",
              "<style scoped>\n",
              "    .dataframe tbody tr th:only-of-type {\n",
              "        vertical-align: middle;\n",
              "    }\n",
              "\n",
              "    .dataframe tbody tr th {\n",
              "        vertical-align: top;\n",
              "    }\n",
              "\n",
              "    .dataframe thead th {\n",
              "        text-align: right;\n",
              "    }\n",
              "</style>\n",
              "<table border=\"1\" class=\"dataframe\">\n",
              "  <thead>\n",
              "    <tr style=\"text-align: right;\">\n",
              "      <th></th>\n",
              "      <th>id</th>\n",
              "      <th>name</th>\n",
              "      <th>host_id</th>\n",
              "      <th>host_name</th>\n",
              "      <th>neighbourhood_group</th>\n",
              "      <th>neighbourhood</th>\n",
              "      <th>latitude</th>\n",
              "      <th>longitude</th>\n",
              "      <th>room_type</th>\n",
              "      <th>price</th>\n",
              "      <th>minimum_nights</th>\n",
              "      <th>number_of_reviews</th>\n",
              "      <th>last_review</th>\n",
              "      <th>reviews_per_month</th>\n",
              "      <th>calculated_host_listings_count</th>\n",
              "      <th>availability_365</th>\n",
              "    </tr>\n",
              "  </thead>\n",
              "  <tbody>\n",
              "    <tr>\n",
              "      <th>1429</th>\n",
              "      <td>6386713</td>\n",
              "      <td>viaja a la copa america con comodid</td>\n",
              "      <td>33289113</td>\n",
              "      <td>Angela</td>\n",
              "      <td>NaN</td>\n",
              "      <td>Lo Espejo</td>\n",
              "      <td>-33.51676</td>\n",
              "      <td>-70.67502</td>\n",
              "      <td>Private room</td>\n",
              "      <td>75738</td>\n",
              "      <td>1</td>\n",
              "      <td>0</td>\n",
              "      <td>NaN</td>\n",
              "      <td>NaN</td>\n",
              "      <td>1</td>\n",
              "      <td>365</td>\n",
              "    </tr>\n",
              "    <tr>\n",
              "      <th>1625</th>\n",
              "      <td>6575014</td>\n",
              "      <td>Casa ideal COPA AMÉRICA</td>\n",
              "      <td>34389531</td>\n",
              "      <td>Macarena</td>\n",
              "      <td>NaN</td>\n",
              "      <td>Lo Espejo</td>\n",
              "      <td>-33.52512</td>\n",
              "      <td>-70.67853</td>\n",
              "      <td>Entire home/apt</td>\n",
              "      <td>63674</td>\n",
              "      <td>1</td>\n",
              "      <td>0</td>\n",
              "      <td>NaN</td>\n",
              "      <td>NaN</td>\n",
              "      <td>1</td>\n",
              "      <td>0</td>\n",
              "    </tr>\n",
              "    <tr>\n",
              "      <th>2899</th>\n",
              "      <td>11189042</td>\n",
              "      <td>Departamento excelente y cómodo</td>\n",
              "      <td>58246073</td>\n",
              "      <td>Romina Nataly</td>\n",
              "      <td>NaN</td>\n",
              "      <td>Lo Espejo</td>\n",
              "      <td>-33.52880</td>\n",
              "      <td>-70.68223</td>\n",
              "      <td>Private room</td>\n",
              "      <td>14745</td>\n",
              "      <td>1</td>\n",
              "      <td>0</td>\n",
              "      <td>NaN</td>\n",
              "      <td>NaN</td>\n",
              "      <td>1</td>\n",
              "      <td>365</td>\n",
              "    </tr>\n",
              "    <tr>\n",
              "      <th>2968</th>\n",
              "      <td>11207332</td>\n",
              "      <td>Cabaña de campo equipada en parcela</td>\n",
              "      <td>58363241</td>\n",
              "      <td>Erwin Czerwenka</td>\n",
              "      <td>NaN</td>\n",
              "      <td>Lo Espejo</td>\n",
              "      <td>-33.51606</td>\n",
              "      <td>-70.69762</td>\n",
              "      <td>Entire home/apt</td>\n",
              "      <td>20107</td>\n",
              "      <td>1</td>\n",
              "      <td>0</td>\n",
              "      <td>NaN</td>\n",
              "      <td>NaN</td>\n",
              "      <td>1</td>\n",
              "      <td>0</td>\n",
              "    </tr>\n",
              "    <tr>\n",
              "      <th>13625</th>\n",
              "      <td>30853703</td>\n",
              "      <td>excelente casa lo espejo</td>\n",
              "      <td>230679815</td>\n",
              "      <td>Miguel</td>\n",
              "      <td>NaN</td>\n",
              "      <td>Lo Espejo</td>\n",
              "      <td>-33.51127</td>\n",
              "      <td>-70.67265</td>\n",
              "      <td>Entire home/apt</td>\n",
              "      <td>109921</td>\n",
              "      <td>1</td>\n",
              "      <td>2</td>\n",
              "      <td>2018-12-23</td>\n",
              "      <td>0.7</td>\n",
              "      <td>1</td>\n",
              "      <td>365</td>\n",
              "    </tr>\n",
              "    <tr>\n",
              "      <th>14609</th>\n",
              "      <td>31923610</td>\n",
              "      <td>Haruwen</td>\n",
              "      <td>233811067</td>\n",
              "      <td>Alejandra</td>\n",
              "      <td>NaN</td>\n",
              "      <td>Lo Espejo</td>\n",
              "      <td>-33.51663</td>\n",
              "      <td>-70.70184</td>\n",
              "      <td>Entire home/apt</td>\n",
              "      <td>40215</td>\n",
              "      <td>1</td>\n",
              "      <td>0</td>\n",
              "      <td>NaN</td>\n",
              "      <td>NaN</td>\n",
              "      <td>1</td>\n",
              "      <td>47</td>\n",
              "    </tr>\n",
              "    <tr>\n",
              "      <th>14945</th>\n",
              "      <td>32192685</td>\n",
              "      <td>Casa de verano en lo espejo</td>\n",
              "      <td>241568452</td>\n",
              "      <td>Jessica</td>\n",
              "      <td>NaN</td>\n",
              "      <td>Lo Espejo</td>\n",
              "      <td>-33.51390</td>\n",
              "      <td>-70.68621</td>\n",
              "      <td>Entire home/apt</td>\n",
              "      <td>29491</td>\n",
              "      <td>1</td>\n",
              "      <td>0</td>\n",
              "      <td>NaN</td>\n",
              "      <td>NaN</td>\n",
              "      <td>1</td>\n",
              "      <td>168</td>\n",
              "    </tr>\n",
              "  </tbody>\n",
              "</table>\n",
              "</div>"
            ],
            "text/plain": [
              "             id  ... availability_365\n",
              "1429    6386713  ...              365\n",
              "1625    6575014  ...                0\n",
              "2899   11189042  ...              365\n",
              "2968   11207332  ...                0\n",
              "13625  30853703  ...              365\n",
              "14609  31923610  ...               47\n",
              "14945  32192685  ...              168\n",
              "\n",
              "[7 rows x 16 columns]"
            ]
          },
          "metadata": {
            "tags": []
          },
          "execution_count": 20
        }
      ]
    },
    {
      "cell_type": "markdown",
      "metadata": {
        "id": "GkvAg623RjoR",
        "colab_type": "text"
      },
      "source": [
        "## Conclusões\n",
        "A analíse foi feita com base no dataset disponibilizado pelo Airbnb, o objetivo é mostrar o poder da manipulação dos dados, de como conseguimos extrair informações preciosas, que podem auxiliar em  tomadas de decisões, guia turistico e negócios."
      ]
    },
    {
      "cell_type": "markdown",
      "metadata": {
        "id": "rbZ3Hsy9Ypw8",
        "colab_type": "text"
      },
      "source": [
        ""
      ]
    }
  ]
}